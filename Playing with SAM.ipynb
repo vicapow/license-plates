{
 "cells": [
  {
   "cell_type": "code",
   "execution_count": 30,
   "id": "6bb412f9",
   "metadata": {},
   "outputs": [],
   "source": [
    "import torch\n",
    "import numpy as np\n",
    "from PIL import Image\n",
    "import requests\n",
    "from transformers import SamModel, SamProcessor\n"
   ]
  },
  {
   "cell_type": "code",
   "execution_count": 2,
   "id": "e18c6b45",
   "metadata": {},
   "outputs": [
    {
     "data": {
      "text/plain": [
       "'cpu'"
      ]
     },
     "execution_count": 2,
     "metadata": {},
     "output_type": "execute_result"
    }
   ],
   "source": [
    "device = \"cuda\" if torch.cuda.is_available() else \"cpu\"\n",
    "device"
   ]
  },
  {
   "cell_type": "code",
   "execution_count": 4,
   "id": "7977915f",
   "metadata": {
    "scrolled": true
   },
   "outputs": [
    {
     "name": "stderr",
     "output_type": "stream",
     "text": [
      "/Users/vp/anaconda3/lib/python3.11/site-packages/torchvision/io/image.py:13: UserWarning: Failed to load image Python extension: 'dlopen(/Users/vp/anaconda3/lib/python3.11/site-packages/torchvision/image.so, 0x0006): Symbol not found: __ZN3c106detail19maybe_wrap_dim_slowIxEET_S2_S2_b\n",
      "  Referenced from: <E03EDA44-89AE-3115-9796-62BA9E0E2EDE> /Users/vp/anaconda3/lib/python3.11/site-packages/torchvision/image.so\n",
      "  Expected in:     <F2FE5CF8-5B5B-3FAD-ADF8-C77D90F49FC9> /Users/vp/anaconda3/lib/python3.11/site-packages/torch/lib/libc10.dylib'If you don't plan on using image functionality from `torchvision.io`, you can ignore this warning. Otherwise, there might be something wrong with your environment. Did you have `libjpeg` or `libpng` installed before building `torchvision` from source?\n",
      "  warn(\n"
     ]
    }
   ],
   "source": [
    "model = SamModel.from_pretrained(\"facebook/sam-vit-huge\").to(device)\n",
    "processor = SamProcessor.from_pretrained(\"facebook/sam-vit-huge\")"
   ]
  },
  {
   "cell_type": "code",
   "execution_count": 136,
   "id": "383be0cb",
   "metadata": {},
   "outputs": [],
   "source": [
    "raw_image = None"
   ]
  },
  {
   "cell_type": "code",
   "execution_count": 137,
   "id": "1e354f66",
   "metadata": {},
   "outputs": [
    {
     "data": {
      "text/plain": [
       "[[[1863, 1045]]]"
      ]
     },
     "execution_count": 137,
     "metadata": {},
     "output_type": "execute_result"
    }
   ],
   "source": [
    "if not raw_image:\n",
    "    raw_image = Image.open(\"example_1.jpg\")\n",
    "    input_points = [[[int(raw_image.width / 2), int(raw_image.height / 2)]]]\n",
    "    \n",
    "input_points"
   ]
  },
  {
   "cell_type": "code",
   "execution_count": 138,
   "id": "04128674",
   "metadata": {},
   "outputs": [],
   "source": [
    "if not raw_image:\n",
    "    img_url = \"https://huggingface.co/ybelkada/segment-anything/resolve/main/assets/car.png\"\n",
    "    raw_image = Image.open(requests.get(img_url, stream=True).raw).convert(\"RGB\")\n",
    "    input_points = [[[450, 600]]]  # 2D location of a window in the image"
   ]
  },
  {
   "cell_type": "code",
   "execution_count": 139,
   "id": "a405fb62",
   "metadata": {},
   "outputs": [],
   "source": [
    "inputs = processor(raw_image, input_points=input_points,\n",
    "                   return_tensors=\"pt\").to(device)\n",
    "outputs = model(**inputs)\n",
    "\n",
    "masks = processor.image_processor.post_process_masks(\n",
    "    outputs.pred_masks.cpu(), inputs[\"original_sizes\"].cpu(\n",
    "    ), inputs[\"reshaped_input_sizes\"].cpu()\n",
    ")\n",
    "scores = outputs.iou_scores"
   ]
  },
  {
   "cell_type": "code",
   "execution_count": 140,
   "id": "b03a9d05",
   "metadata": {},
   "outputs": [
    {
     "data": {
      "text/plain": [
       "tensor([[[0.9748, 0.9585, 0.9598]]], grad_fn=<SliceBackward0>)"
      ]
     },
     "execution_count": 140,
     "metadata": {},
     "output_type": "execute_result"
    }
   ],
   "source": [
    "scores"
   ]
  },
  {
   "cell_type": "code",
   "execution_count": 145,
   "id": "61da6dd2",
   "metadata": {},
   "outputs": [],
   "source": [
    "def show_mask(mask, filename, random_color=True):\n",
    "    if random_color:\n",
    "        color = np.concatenate([np.random.random(3), np.array([0.6])], axis=0)\n",
    "    else:\n",
    "        color = np.array([30/255, 144/255, 255/255, 0.6])\n",
    "    h, w = mask.shape[-2:]\n",
    "    mask_image = mask.reshape(h, w, 1) * color.reshape(1, 1, -1)\n",
    "    mask_image = mask_image * 255\n",
    "    np_array = mask_image.cpu().numpy()  # Convert to NumPy array\n",
    "    # Create a PIL Image from the NumPy array\n",
    "    image = Image.fromarray(np.uint8(np_array))\n",
    "    return image\n",
    "\n",
    "def get_mask_image(masks, scores, raw_image):\n",
    "    if len(masks.shape) == 4:\n",
    "        masks = masks.squeeze()\n",
    "    if scores.shape[0] == 1:\n",
    "      scores = scores.squeeze()\n",
    "    nb_predictions = scores.shape[-1]\n",
    "    for i, (mask, score) in enumerate(zip(masks, scores)):\n",
    "        image = show_mask(mask, f\"output_mask_{i}.png\")\n",
    "        raw_image.paste(image, (0, 0), image)\n",
    "    raw_image.save(\"output.png\")\n",
    "\n",
    "get_mask_image(masks[0], scores, raw_image)"
   ]
  },
  {
   "cell_type": "code",
   "execution_count": 106,
   "id": "3d77f4dd",
   "metadata": {},
   "outputs": [],
   "source": [
    "# Assuming you have a PyTorch tensor of shape [1764, 2646, 4] with values in the range [0, 1]\n",
    "# You can create a NumPy array from it and map the values to [0, 255].\n",
    "pytorch_tensor = torch.randn(1764, 2646, 4)  # Replace this with your actual data\n",
    "scaled_tensor = (pytorch_tensor * 255).clamp(0, 255)  # Scale values to [0, 255] and clamp\n",
    "\n",
    "# Convert to NumPy array with uint8 data type\n",
    "numpy_array = scaled_tensor.cpu().numpy().astype(np.uint8)\n",
    "\n",
    "# Create a PIL Image from the NumPy array\n",
    "image = Image.fromarray(numpy_array)\n",
    "\n",
    "# Save the image to a PNG file\n",
    "image.save('output.png')\n"
   ]
  },
  {
   "cell_type": "code",
   "execution_count": null,
   "id": "42620222",
   "metadata": {},
   "outputs": [],
   "source": []
  }
 ],
 "metadata": {
  "kernelspec": {
   "display_name": "Python 3 (ipykernel)",
   "language": "python",
   "name": "python3"
  },
  "language_info": {
   "codemirror_mode": {
    "name": "ipython",
    "version": 3
   },
   "file_extension": ".py",
   "mimetype": "text/x-python",
   "name": "python",
   "nbconvert_exporter": "python",
   "pygments_lexer": "ipython3",
   "version": "3.11.5"
  }
 },
 "nbformat": 4,
 "nbformat_minor": 5
}
